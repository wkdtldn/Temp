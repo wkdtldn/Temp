{
 "cells": [
  {
   "cell_type": "code",
   "execution_count": 1,
   "metadata": {},
   "outputs": [],
   "source": [
    "import pandas as pd\n",
    "import re\n",
    "from tqdm import tqdm\n",
    "from konlpy.tag import Mecab\n",
    "import matplotlib.pyplot as plt\n",
    "\n",
    "m = Mecab()"
   ]
  },
  {
   "cell_type": "code",
   "execution_count": 2,
   "metadata": {},
   "outputs": [],
   "source": [
    "train_data = pd.read_csv('~/workspace/DiaryProject/backend/data/ratings_train.txt',sep='\\t')\n",
    "test_data = pd.read_csv('~/workspace/DiaryProject/backend/data/ratings_test.txt',sep='\\t')\n",
    "\n",
    "stop_tags = ['JK', 'JKS', 'JKC', 'JKG', 'JKO', 'JKB', 'JKV', 'JKQ', 'JX', 'JC', 'EP', 'EF', 'EC', 'ETN', 'ETM']"
   ]
  },
  {
   "cell_type": "code",
   "execution_count": 3,
   "metadata": {},
   "outputs": [],
   "source": [
    "train_data.drop(['id'], axis=1, inplace=True)\n",
    "test_data.drop(['id'], axis=1, inplace=True)"
   ]
  },
  {
   "cell_type": "code",
   "execution_count": 4,
   "metadata": {},
   "outputs": [],
   "source": [
    "train_data.dropna(inplace=True)\n",
    "test_data.dropna(inplace=True)\n"
   ]
  },
  {
   "cell_type": "code",
   "execution_count": 5,
   "metadata": {},
   "outputs": [],
   "source": [
    "train_data.drop_duplicates(subset=['document'], inplace=True, ignore_index=True)\n",
    "test_data.drop_duplicates(subset=['document'], inplace=True, ignore_index=True)"
   ]
  },
  {
   "cell_type": "code",
   "execution_count": 6,
   "metadata": {},
   "outputs": [],
   "source": [
    "def remove_not_korea(df):\n",
    "    for idx, row in tqdm(df.iterrows(), desc='removing_not_korea', total=len(df)):\n",
    "        new_doc = re.sub(\"[^가-힣]\",'', row['document']).strip()\n",
    "        df.loc[idx, 'document'] = new_doc\n",
    "    return df"
   ]
  },
  {
   "cell_type": "code",
   "execution_count": 7,
   "metadata": {},
   "outputs": [
    {
     "name": "stderr",
     "output_type": "stream",
     "text": [
      "removing_not_korea: 100%|██████████| 146182/146182 [07:19<00:00, 332.50it/s]\n",
      "removing_not_korea: 100%|██████████| 49157/49157 [00:20<00:00, 2346.39it/s]\n"
     ]
    }
   ],
   "source": [
    "train_data = remove_not_korea(train_data)\n",
    "test_data = remove_not_korea(test_data)"
   ]
  },
  {
   "cell_type": "code",
   "execution_count": 8,
   "metadata": {},
   "outputs": [],
   "source": [
    "def remove_stop_tags(df,tags):\n",
    "    for idx, row in tqdm(df.iterrows(), desc='removing josa', total=len(df)):\n",
    "        josa_removed = [x[0] for x in m.pos(row['document']) if x[1] not in tags]\n",
    "        df.loc[idx, 'document'] = ' '.join(josa_removed)\n",
    "    return df"
   ]
  },
  {
   "cell_type": "code",
   "execution_count": 9,
   "metadata": {},
   "outputs": [
    {
     "ename": "TypeError",
     "evalue": "remove_stop_tags() missing 1 required positional argument: 'tags'",
     "output_type": "error",
     "traceback": [
      "\u001b[0;31m---------------------------------------------------------------------------\u001b[0m",
      "\u001b[0;31mTypeError\u001b[0m                                 Traceback (most recent call last)",
      "Cell \u001b[0;32mIn[9], line 1\u001b[0m\n\u001b[0;32m----> 1\u001b[0m train_data \u001b[38;5;241m=\u001b[39m remove_stop_tags(train_data)\n\u001b[1;32m      2\u001b[0m test_data \u001b[38;5;241m=\u001b[39m remove_stop_tags(test_data)\n",
      "\u001b[0;31mTypeError\u001b[0m: remove_stop_tags() missing 1 required positional argument: 'tags'"
     ]
    }
   ],
   "source": [
    "train_data = remove_stop_tags(train_data, stop_tags)\n",
    "test_data = remove_stop_tags(test_data, stop_tags)"
   ]
  },
  {
   "cell_type": "code",
   "execution_count": null,
   "metadata": {},
   "outputs": [],
   "source": []
  }
 ],
 "metadata": {
  "kernelspec": {
   "display_name": "base",
   "language": "python",
   "name": "python3"
  },
  "language_info": {
   "codemirror_mode": {
    "name": "ipython",
    "version": 3
   },
   "file_extension": ".py",
   "mimetype": "text/x-python",
   "name": "python",
   "nbconvert_exporter": "python",
   "pygments_lexer": "ipython3",
   "version": "3.11.5"
  }
 },
 "nbformat": 4,
 "nbformat_minor": 2
}
